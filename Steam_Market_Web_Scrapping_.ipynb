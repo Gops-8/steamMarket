{
  "nbformat": 4,
  "nbformat_minor": 0,
  "metadata": {
    "colab": {
      "name": "Steam Market Web Scrapping .ipynb",
      "provenance": [],
      "authorship_tag": "ABX9TyP41Cq384KIdbRINyDwPzEG",
      "include_colab_link": true
    },
    "kernelspec": {
      "name": "python3",
      "display_name": "Python 3"
    },
    "language_info": {
      "name": "python"
    }
  },
  "cells": [
    {
      "cell_type": "markdown",
      "metadata": {
        "id": "view-in-github",
        "colab_type": "text"
      },
      "source": [
        "<a href=\"https://colab.research.google.com/github/Gops-8/steamMarket/blob/master/Steam_Market_Web_Scrapping_.ipynb\" target=\"_parent\"><img src=\"https://colab.research.google.com/assets/colab-badge.svg\" alt=\"Open In Colab\"/></a>"
      ]
    },
    {
      "cell_type": "code",
      "execution_count": 1,
      "metadata": {
        "id": "WYLBMX6DFvQX"
      },
      "outputs": [],
      "source": [
        "import requests # make http requests\n",
        "import json # make sense of what the requests return\n",
        "import pickle # save our data to our computer\n",
        "\n",
        "import pandas as pd # structure out data\n",
        "import numpy as np # do a bit of math\n",
        "import scipy.stats as sci # do a bit more math\n",
        "\n",
        "from datetime import datetime # make working with dates 1000x easier \n",
        "import time # become time lords\n",
        "import random # create random numbers (probably not needed)"
      ]
    },
    {
      "cell_type": "code",
      "source": [
        "cookie = {'steamLoginSecure': '76561198836023620%7C%7C460D077323AF217CBED48ECE35C1F356A78D2363'}"
      ],
      "metadata": {
        "id": "u-up5jBiGTc4"
      },
      "execution_count": 11,
      "outputs": []
    },
    {
      "cell_type": "code",
      "source": [
        "gameList = ['252490'] "
      ],
      "metadata": {
        "id": "THeP1o05G8BZ"
      },
      "execution_count": 15,
      "outputs": []
    },
    {
      "cell_type": "code",
      "source": [
        "for gameID in gameList:\n",
        "    # itialize\n",
        "    allItemNames = [];\n",
        "    \n",
        "    # find total number items\n",
        "    allItemsGet = requests.get('https://steamcommunity.com/market/search/render/?search_descriptions=0&sort_column=default&sort_dir=desc&appid='+gameID+'&norender=1&count=100', cookies=cookie); # get page\n",
        "    if allItemsGet.status_code == 429:\n",
        "          time.sleep(int(allItemsGet.headers[\"Retry-After\"]))\n",
        "          allItemsGet = requests.get('https://steamcommunity.com/market/search/render/?search_descriptions=0&sort_column=default&sort_dir=desc&appid='+gameID+'&norender=1&count=100', cookies=cookie); # get page\n",
        "\n",
        "          \n",
        "    allItems = allItemsGet.content; # get page content\n",
        "    \n",
        "    allItems = json.loads(allItems); # convert to JSON\n",
        "    totalItems = allItems['total_count']; # get total count\n",
        "\n",
        "  "
      ],
      "metadata": {
        "id": "ahWFA2_EHB1d"
      },
      "execution_count": 22,
      "outputs": []
    },
    {
      "cell_type": "code",
      "source": [
        "gameID='730'\n",
        "response = requests.get('https://steamcommunity.com/market/search/render/?search_descriptions=0&sort_column=default&sort_dir=desc&appid='+gameID+'&norender=1&count=100', cookies=cookie); # get page\n",
        "contentj=response.content\n",
        "contentjson = json.loads(contentj);\n",
        "marketdata_df = pd.json_normalize(contentjson['results'])"
      ],
      "metadata": {
        "id": "uHHTkDLeNuYD"
      },
      "execution_count": 62,
      "outputs": []
    },
    {
      "cell_type": "code",
      "source": [
        "totalItems= contentjson['total_count']\n",
        "totalItems"
      ],
      "metadata": {
        "colab": {
          "base_uri": "https://localhost:8080/"
        },
        "id": "ADCJ1H1dOXOu",
        "outputId": "3c9341b9-8afc-45a9-ecd5-1878fbee20b7"
      },
      "execution_count": 66,
      "outputs": [
        {
          "output_type": "execute_result",
          "data": {
            "text/plain": [
              "18005"
            ]
          },
          "metadata": {},
          "execution_count": 66
        }
      ]
    },
    {
      "cell_type": "code",
      "source": [
        "# you can only get 100 items at a time (despite putting in count= >100)\n",
        "# so we have to loop through in batches of 100 to get every single item name by specifying the start position\n",
        "gameID='730'\n",
        "cookie = {'steamLoginSecure': '76561198836023620%7C%7C460D077323AF217CBED48ECE35C1F356A78D2363'}\n",
        "marketdata_df = marketdata_df[0:0]\n",
        "\n",
        "totalItems=18000\n",
        "\n",
        "\n",
        "for currPos in range(0,totalItems+50,50): # loop through all items\n",
        "\n",
        "    time.sleep(random.uniform(5, 15)) # you cant make requests too quickly or steam gets mad\n",
        "    \n",
        "# get item name of each\n",
        "    allItemsGet = requests.get('https://steamcommunity.com/market/search/render/?start='+str(currPos)+'&count=100&search_descriptions=0&sort_column=default&sort_dir=desc&appid='+gameID+'&norender=1&count=5000', cookies=cookie);\n",
        "    print('Items '+str(currPos)+' out of '+str(totalItems)+' code: '+str(allItemsGet.status_code)) # reassure us the code is running and we are getting good returns (code 200)\n",
        "    if allItemsGet.status_code == 429:\n",
        "        sleeptime=allItemsGet.headers[\"Retry-After\"]\n",
        "        print(\"maxout reached :\",sleeptime)\n",
        "        time.sleep(int(sleeptime))\n",
        "        time.sleep(5)\n",
        "\n",
        "    allItems = allItemsGet.content;\n",
        "    allItems = json.loads(allItems);\n",
        "    allItems = allItems['results'];\n",
        "    for currItem in allItems: \n",
        "            allItemNames.append(currItem['hash_name']) # save the names\n",
        "\n",
        "    df= pd.json_normalize(allItems)\n",
        "    marketdata_df.append(df, ignore_index=True)\n",
        "  \n",
        "marketdata_df.to_csv('market_data_all.csv')\n"
      ],
      "metadata": {
        "colab": {
          "base_uri": "https://localhost:8080/"
        },
        "id": "8tJz2XyGSjiD",
        "outputId": "b48a792a-06aa-4ab6-9f31-2f5df7b8b894"
      },
      "execution_count": null,
      "outputs": [
        {
          "output_type": "stream",
          "name": "stdout",
          "text": [
            "Items 0 out of 18000 code: 200\n",
            "Items 50 out of 18000 code: 200\n",
            "Items 100 out of 18000 code: 200\n",
            "Items 150 out of 18000 code: 200\n",
            "Items 200 out of 18000 code: 200\n",
            "Items 250 out of 18000 code: 200\n",
            "Items 300 out of 18000 code: 200\n",
            "Items 350 out of 18000 code: 200\n",
            "Items 400 out of 18000 code: 200\n",
            "Items 450 out of 18000 code: 200\n",
            "Items 500 out of 18000 code: 200\n",
            "Items 550 out of 18000 code: 200\n",
            "Items 600 out of 18000 code: 200\n",
            "Items 650 out of 18000 code: 200\n",
            "Items 700 out of 18000 code: 200\n",
            "Items 750 out of 18000 code: 200\n",
            "Items 800 out of 18000 code: 200\n",
            "Items 850 out of 18000 code: 200\n",
            "Items 900 out of 18000 code: 200\n",
            "Items 950 out of 18000 code: 200\n",
            "Items 1000 out of 18000 code: 200\n",
            "Items 1050 out of 18000 code: 200\n",
            "Items 1100 out of 18000 code: 200\n",
            "Items 1150 out of 18000 code: 200\n",
            "Items 1200 out of 18000 code: 200\n",
            "Items 1250 out of 18000 code: 200\n",
            "Items 1300 out of 18000 code: 200\n",
            "Items 1350 out of 18000 code: 200\n",
            "Items 1400 out of 18000 code: 200\n",
            "Items 1450 out of 18000 code: 200\n",
            "Items 1500 out of 18000 code: 200\n",
            "Items 1550 out of 18000 code: 200\n",
            "Items 1600 out of 18000 code: 200\n",
            "Items 1650 out of 18000 code: 200\n",
            "Items 1700 out of 18000 code: 200\n",
            "Items 1750 out of 18000 code: 200\n",
            "Items 1800 out of 18000 code: 200\n",
            "Items 1850 out of 18000 code: 200\n",
            "Items 1900 out of 18000 code: 200\n",
            "Items 1950 out of 18000 code: 200\n",
            "Items 2000 out of 18000 code: 200\n",
            "Items 2050 out of 18000 code: 200\n",
            "Items 2100 out of 18000 code: 200\n",
            "Items 2150 out of 18000 code: 200\n",
            "Items 2200 out of 18000 code: 200\n",
            "Items 2250 out of 18000 code: 200\n",
            "Items 2300 out of 18000 code: 200\n",
            "Items 2350 out of 18000 code: 200\n",
            "Items 2400 out of 18000 code: 200\n",
            "Items 2450 out of 18000 code: 200\n",
            "Items 2500 out of 18000 code: 200\n",
            "Items 2550 out of 18000 code: 200\n",
            "Items 2600 out of 18000 code: 200\n",
            "Items 2650 out of 18000 code: 200\n",
            "Items 2700 out of 18000 code: 200\n",
            "Items 2750 out of 18000 code: 200\n"
          ]
        }
      ]
    },
    {
      "cell_type": "code",
      "source": [
        "marketdata_df.to_csv('market_data_1000.csv')"
      ],
      "metadata": {
        "id": "5M3z-DocW-m1"
      },
      "execution_count": null,
      "outputs": []
    }
  ]
}